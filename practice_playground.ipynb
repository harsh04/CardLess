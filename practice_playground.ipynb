{
  "nbformat": 4,
  "nbformat_minor": 0,
  "metadata": {
    "colab": {
      "name": "Untitled3.ipynb",
      "provenance": [],
      "authorship_tag": "ABX9TyPNp9FzG1xs8/pBgmNjw6f7",
      "include_colab_link": true
    },
    "kernelspec": {
      "name": "python3",
      "display_name": "Python 3"
    },
    "language_info": {
      "name": "python"
    }
  },
  "cells": [
    {
      "cell_type": "markdown",
      "metadata": {
        "id": "view-in-github",
        "colab_type": "text"
      },
      "source": [
        "<a href=\"https://colab.research.google.com/github/harsh04/CardLess/blob/master/practice_playground.ipynb\" target=\"_parent\"><img src=\"https://colab.research.google.com/assets/colab-badge.svg\" alt=\"Open In Colab\"/></a>"
      ]
    },
    {
      "cell_type": "code",
      "metadata": {
        "id": "QKlfmxKG0dTK"
      },
      "source": [
        "!pip install upswingutil"
      ],
      "execution_count": null,
      "outputs": []
    },
    {
      "cell_type": "code",
      "metadata": {
        "id": "lkP8THJD0ftT"
      },
      "source": [
        "import upswingutil as ul\n",
        "from upswingutil.db import Mongodb\n",
        "\n",
        "ul.G_CLOUD_PROJECT = 'aura-staging-31cae'"
      ],
      "execution_count": 3,
      "outputs": []
    },
    {
      "cell_type": "code",
      "metadata": {
        "colab": {
          "base_uri": "https://localhost:8080/"
        },
        "id": "-9xLpowW09sR",
        "outputId": "8d82b70c-7a9d-4e58-bea2-8f1184f5d5c6"
      },
      "source": [
        "db = Mongodb('OHIPSB')\n",
        "__pipeline__ = [\n",
        "    {\n",
        "        '$project': {\n",
        "            'arrivalDate': 1, \n",
        "            'agent': 1\n",
        "        }\n",
        "    }\n",
        "]\n",
        "result = db.execute_pipeline(db.RESERVATION_COLLECTION, __pipeline__)"
      ],
      "execution_count": 4,
      "outputs": [
        {
          "output_type": "stream",
          "name": "stderr",
          "text": [
            "2021-09-10 08:34:42.317 | ERROR    | upswingutil.db.mongodb:execute_pipeline:47 - Error while executing pipeline\n",
            "2021-09-10 08:34:42.322 | ERROR    | upswingutil.db.mongodb:execute_pipeline:48 - localhost:27017: [Errno 111] Connection refused, Timeout: 30s, Topology Description: <TopologyDescription id: 613b1884831b3f4adf7116bd, topology_type: Single, servers: [<ServerDescription ('localhost', 27017) server_type: Unknown, rtt: None, error=AutoReconnect('localhost:27017: [Errno 111] Connection refused')>]>\n"
          ]
        }
      ]
    }
  ]
}